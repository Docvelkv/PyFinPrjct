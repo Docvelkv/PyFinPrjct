{
 "cells": [
  {
   "cell_type": "code",
   "execution_count": null,
   "metadata": {},
   "outputs": [],
   "source": [
    "# В ячейке ниже представлен код генерирующий DataFrame, который состоит всего из 1 столбца.\n",
    "# Ваша задача перевести его в one hot вид. Сможете ли вы это сделать без get_dummies?"
   ]
  }
 ],
 "metadata": {
  "kernelspec": {
   "display_name": "Python 3",
   "language": "python",
   "name": "python3"
  },
  "language_info": {
   "name": "python",
   "version": "3.11.1"
  },
  "orig_nbformat": 4
 },
 "nbformat": 4,
 "nbformat_minor": 2
}
